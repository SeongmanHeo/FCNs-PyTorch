{
 "cells": [
  {
   "cell_type": "markdown",
   "metadata": {},
   "source": [
    "# Applying Network Dissection to FCNs-PyTorch"
   ]
  },
  {
   "cell_type": "code",
   "execution_count": 1,
   "metadata": {},
   "outputs": [],
   "source": [
    "%matplotlib inline\n",
    "import matplotlib.pyplot as plt\n",
    "import pandas as pd\n",
    "import numpy as np\n",
    "\n",
    "# PyTorch libraies and modules\n",
    "import torch\n",
    "import torch.nn.functional as F\n",
    "import torch.nn as nn\n",
    "from torch.autograd import Variable\n",
    "from torch.utils.data import Dataset, DataLoader\n",
    "import torch.optim as optim\n",
    "\n",
    "# For handling Image data\n",
    "import torchvision\n",
    "import torchvision.transforms as transforms"
   ]
  },
  {
   "cell_type": "markdown",
   "metadata": {},
   "source": [
    "## Loading and preprocessing data: CIFAR-10"
   ]
  },
  {
   "cell_type": "code",
   "execution_count": 2,
   "metadata": {},
   "outputs": [],
   "source": [
    "# downloading data\n",
    "transform = transforms.Compose([transforms.ToTensor(),\n",
    "                               transforms.Normalize((0.5,0.5,0.5), (0.5,0.5,0.5))])\n",
    "\n",
    "trainDataset = torchvision.datasets.CIFAR10(root='./dataset',\n",
    "                                     train=True,\n",
    "                                     transform=transform,\n",
    "                                     download=False)\n",
    "\n",
    "testDataset = torchvision.datasets.CIFAR10(root='./dataset',\n",
    "                                     train=False, # test\n",
    "                                     transform=transform,\n",
    "                                     download=False)"
   ]
  },
  {
   "cell_type": "code",
   "execution_count": 3,
   "metadata": {},
   "outputs": [],
   "source": [
    "# loading data\n",
    "trainLoader = DataLoader(trainDataset, batch_size=8, shuffle=True)\n",
    "testLoader = DataLoader(testDataset, batch_size=8, shuffle=True)"
   ]
  },
  {
   "cell_type": "code",
   "execution_count": 4,
   "metadata": {},
   "outputs": [],
   "source": [
    "# clear memory\n",
    "del trainDataset, testDataset"
   ]
  },
  {
   "cell_type": "markdown",
   "metadata": {},
   "source": [
    "## Defining FCNs"
   ]
  },
  {
   "cell_type": "code",
   "execution_count": 5,
   "metadata": {},
   "outputs": [],
   "source": [
    "# Define the Network\n",
    "class FCNs(nn.Module):    \n",
    "    def __init__(self):\n",
    "        super(FCNs, self).__init__()        \n",
    "        self.layer1 = nn.Sequential(                        \n",
    "            nn.Conv2d(3, 64, kernel_size=5, stride=2, padding=1),\n",
    "            nn.BatchNorm2d(64),\n",
    "            nn.ReLU())            \n",
    "        self.layer2 = nn.Sequential(\n",
    "            nn.Conv2d(64, 30, kernel_size=5, stride=2, padding=1),\n",
    "            nn.BatchNorm2d(30),\n",
    "            nn.ReLU())        \n",
    "        self.fc = nn.Sequential(\n",
    "            nn.Linear(30*49, 128),            \n",
    "            nn.Linear(128, 10))\n",
    "        \n",
    "    def forward(self, x):\n",
    "        # print('input ', x.size())\n",
    "        out = self.layer1(x)\n",
    "        # print('layer1 ', out.size())\n",
    "        out = self.layer2(out)\n",
    "        # print('layer2 ', out.size())\n",
    "        out = out.reshape(out.size(0), -1) # flatten\n",
    "        # print('reshape ', out.size())\n",
    "        out = self.fc(out)\n",
    "        # print('fc ', out.size())        \n",
    "        return out"
   ]
  },
  {
   "cell_type": "code",
   "execution_count": 6,
   "metadata": {},
   "outputs": [
    {
     "name": "stdout",
     "output_type": "stream",
     "text": [
      "FCNs(\n",
      "  (layer1): Sequential(\n",
      "    (0): Conv2d(3, 64, kernel_size=(5, 5), stride=(2, 2), padding=(1, 1))\n",
      "    (1): BatchNorm2d(64, eps=1e-05, momentum=0.1, affine=True, track_running_stats=True)\n",
      "    (2): ReLU()\n",
      "  )\n",
      "  (layer2): Sequential(\n",
      "    (0): Conv2d(64, 30, kernel_size=(5, 5), stride=(2, 2), padding=(1, 1))\n",
      "    (1): BatchNorm2d(30, eps=1e-05, momentum=0.1, affine=True, track_running_stats=True)\n",
      "    (2): ReLU()\n",
      "  )\n",
      "  (fc): Sequential(\n",
      "    (0): Linear(in_features=1470, out_features=128, bias=True)\n",
      "    (1): Linear(in_features=128, out_features=10, bias=True)\n",
      "  )\n",
      ")\n"
     ]
    }
   ],
   "source": [
    "# defining the model\n",
    "model = FCNs()\n",
    "# defining the optimizer\n",
    "optimizer = optim.SGD(model.parameters(), lr=0.001)\n",
    "# defining the loss function\n",
    "lossFunction = nn.CrossEntropyLoss()\n",
    "# checking if GPU is available\n",
    "if torch.cuda.is_available():    \n",
    "    model = model.cuda()\n",
    "    lossFunction = lossFunction.cuda()    \n",
    "print(model)"
   ]
  },
  {
   "cell_type": "code",
   "execution_count": 8,
   "metadata": {
    "scrolled": true
   },
   "outputs": [
    {
     "name": "stdout",
     "output_type": "stream",
     "text": [
      "Epoch :  1 \t trn loss : 1.0649431943893433\n",
      "Epoch :  2 \t trn loss : 1.4803555011749268\n",
      "Epoch :  3 \t trn loss : 0.6625185012817383\n",
      "Epoch :  4 \t trn loss : 0.6634326577186584\n",
      "Epoch :  5 \t trn loss : 0.7228152751922607\n",
      "Epoch :  6 \t trn loss : 0.7963672876358032\n",
      "Epoch :  7 \t trn loss : 0.6826454401016235\n",
      "Epoch :  8 \t trn loss : 1.2771373987197876\n",
      "Epoch :  9 \t trn loss : 1.1242356300354004\n",
      "Epoch :  10 \t trn loss : 1.0361604690551758\n",
      "Epoch :  11 \t trn loss : 0.6516062021255493\n",
      "Epoch :  12 \t trn loss : 0.487311452627182\n",
      "Epoch :  13 \t trn loss : 1.3727649450302124\n",
      "Epoch :  14 \t trn loss : 0.4070478081703186\n",
      "Epoch :  15 \t trn loss : 0.9864946603775024\n",
      "Epoch :  16 \t trn loss : 0.8645291328430176\n",
      "Epoch :  17 \t trn loss : 0.5001485347747803\n",
      "Epoch :  18 \t trn loss : 0.3659386932849884\n",
      "Epoch :  19 \t trn loss : 0.5131548047065735\n",
      "Epoch :  20 \t trn loss : 0.2083221971988678\n",
      "Epoch :  21 \t trn loss : 0.9404758214950562\n",
      "Epoch :  22 \t trn loss : 0.2606605887413025\n",
      "Epoch :  23 \t trn loss : 0.38477325439453125\n",
      "Epoch :  24 \t trn loss : 0.33142226934432983\n",
      "Epoch :  25 \t trn loss : 0.1001092791557312\n",
      "Epoch :  26 \t trn loss : 0.6305494904518127\n",
      "Epoch :  27 \t trn loss : 1.210071325302124\n",
      "Epoch :  28 \t trn loss : 0.15344637632369995\n",
      "Epoch :  29 \t trn loss : 0.39957195520401\n",
      "Epoch :  30 \t trn loss : 0.0661744475364685\n",
      "Epoch :  31 \t trn loss : 0.03616321086883545\n",
      "Epoch :  32 \t trn loss : 0.20175868272781372\n",
      "Epoch :  33 \t trn loss : 0.5024940371513367\n",
      "Epoch :  34 \t trn loss : 0.7577114105224609\n",
      "Epoch :  35 \t trn loss : 0.7494651079177856\n",
      "Epoch :  36 \t trn loss : 0.011258363723754883\n",
      "Epoch :  37 \t trn loss : 0.297019898891449\n",
      "Epoch :  38 \t trn loss : 0.3199893832206726\n",
      "Epoch :  39 \t trn loss : 0.08617526292800903\n",
      "Epoch :  40 \t trn loss : 0.598754346370697\n",
      "Epoch :  41 \t trn loss : 0.5276395082473755\n",
      "Epoch :  42 \t trn loss : 0.1349131464958191\n",
      "Epoch :  43 \t trn loss : 0.22502636909484863\n",
      "Epoch :  44 \t trn loss : 0.4088308811187744\n",
      "Epoch :  45 \t trn loss : 0.2814410924911499\n",
      "Epoch :  46 \t trn loss : 0.20475327968597412\n",
      "Epoch :  47 \t trn loss : 0.03257298469543457\n",
      "Epoch :  48 \t trn loss : 0.1587684154510498\n",
      "Epoch :  49 \t trn loss : 0.010979771614074707\n",
      "Epoch :  50 \t trn loss : 0.18167638778686523\n",
      "Epoch :  51 \t trn loss : 0.5224965810775757\n",
      "Epoch :  52 \t trn loss : 0.07103949785232544\n",
      "Epoch :  53 \t trn loss : 0.4877817630767822\n",
      "Epoch :  54 \t trn loss : 0.17980211973190308\n",
      "Epoch :  55 \t trn loss : 0.13721954822540283\n",
      "Epoch :  56 \t trn loss : 1.1671286821365356\n",
      "Epoch :  57 \t trn loss : 0.3474292755126953\n",
      "Epoch :  58 \t trn loss : 0.31661471724510193\n",
      "Epoch :  59 \t trn loss : 0.02156960964202881\n",
      "Epoch :  60 \t trn loss : 0.20220381021499634\n",
      "Epoch :  61 \t trn loss : 0.09904706478118896\n",
      "Epoch :  62 \t trn loss : 0.09335309267044067\n",
      "Epoch :  63 \t trn loss : 0.03277444839477539\n",
      "Epoch :  64 \t trn loss : 0.0036252737045288086\n",
      "Epoch :  65 \t trn loss : 0.9369086027145386\n",
      "Epoch :  66 \t trn loss : 0.1690649390220642\n",
      "Epoch :  67 \t trn loss : 0.0509493350982666\n",
      "Epoch :  68 \t trn loss : 0.13727426528930664\n",
      "Epoch :  69 \t trn loss : 0.06820482015609741\n",
      "Epoch :  70 \t trn loss : 0.04676556587219238\n",
      "Epoch :  71 \t trn loss : 0.3540683388710022\n",
      "Epoch :  72 \t trn loss : 0.08173644542694092\n",
      "Epoch :  73 \t trn loss : 0.16106364130973816\n",
      "Epoch :  74 \t trn loss : 0.10397183895111084\n",
      "Epoch :  75 \t trn loss : 0.19624042510986328\n",
      "Epoch :  76 \t trn loss : 0.14126253128051758\n",
      "Epoch :  77 \t trn loss : 0.14075440168380737\n",
      "Epoch :  78 \t trn loss : 0.0337679386138916\n",
      "Epoch :  79 \t trn loss : 0.12406516075134277\n",
      "Epoch :  80 \t trn loss : 0.015452861785888672\n",
      "Epoch :  81 \t trn loss : 0.04223275184631348\n",
      "Epoch :  82 \t trn loss : 0.35379159450531006\n",
      "Epoch :  83 \t trn loss : 0.3838929533958435\n",
      "Epoch :  84 \t trn loss : 0.07892584800720215\n",
      "Epoch :  85 \t trn loss : 0.891391396522522\n",
      "Epoch :  86 \t trn loss : 0.44622284173965454\n",
      "Epoch :  87 \t trn loss : 0.028548121452331543\n",
      "Epoch :  88 \t trn loss : 0.2102046012878418\n",
      "Epoch :  89 \t trn loss : 0.11084961891174316\n",
      "Epoch :  90 \t trn loss : 0.03308260440826416\n",
      "Epoch :  91 \t trn loss : 0.6501854658126831\n",
      "Epoch :  92 \t trn loss : 0.14996051788330078\n",
      "Epoch :  93 \t trn loss : 0.32993102073669434\n",
      "Epoch :  94 \t trn loss : 0.1993114948272705\n",
      "Epoch :  95 \t trn loss : 0.5107386112213135\n",
      "Epoch :  96 \t trn loss : 0.1598583459854126\n",
      "Epoch :  97 \t trn loss : 0.049829840660095215\n",
      "Epoch :  98 \t trn loss : 0.2791842818260193\n",
      "Epoch :  99 \t trn loss : 0.44064998626708984\n",
      "Epoch :  100 \t trn loss : 0.05474281311035156\n"
     ]
    }
   ],
   "source": [
    "# defining the number of epochs\n",
    "n_epochs = 100\n",
    "# empty list to store training losses\n",
    "losses = []\n",
    "# Training\n",
    "for epoch in range(n_epochs):\n",
    "    for i, (inputs, labels) in enumerate(trainLoader):\n",
    "        # getting variables        \n",
    "        inputs, labels = Variable(inputs), Variable(labels)\n",
    "        # using GPU\n",
    "        if torch.cuda.is_available():       \n",
    "            inputs, labels = inputs.cuda(), labels.cuda()       \n",
    "        # Forward\n",
    "        output = model(inputs)\n",
    "        # computing loss\n",
    "        loss = lossFunction(output, labels)\n",
    "        # init. gradients of the model parameters\n",
    "        optimizer.zero_grad()\n",
    "        # computing the updated weights of all the model parameters\n",
    "        loss.backward()\n",
    "        optimizer.step()\n",
    "    # stack loss (tensor -> value)\n",
    "    losses.append(loss.item())\n",
    "    print('Epoch : ', epoch+1, '\\t', 'trn loss :', loss.item())"
   ]
  },
  {
   "cell_type": "code",
   "execution_count": 9,
   "metadata": {},
   "outputs": [
    {
     "data": {
      "image/png": "[encoded data removed]",
      "text/plain": [
       "<Figure size 432x288 with 1 Axes>"
      ]
     },
     "metadata": {},
     "output_type": "display_data"
    }
   ],
   "source": [
    "# plotting loss\n",
    "plt.plot(losses, label='Train loss')\n",
    "plt.legend()\n",
    "plt.show()"
   ]
  },
  {
   "cell_type": "markdown",
   "metadata": {},
   "source": [
    "## eval."
   ]
  },
  {
   "cell_type": "code",
   "execution_count": 10,
   "metadata": {},
   "outputs": [],
   "source": [
    "device = torch.device('cuda' if torch.cuda.is_available() else 'cpu')"
   ]
  },
  {
   "cell_type": "code",
   "execution_count": 11,
   "metadata": {},
   "outputs": [
    {
     "data": {
      "text/plain": [
       "device(type='cuda')"
      ]
     },
     "execution_count": 11,
     "metadata": {},
     "output_type": "execute_result"
    }
   ],
   "source": [
    "device"
   ]
  },
  {
   "cell_type": "code",
   "execution_count": 18,
   "metadata": {},
   "outputs": [
    {
     "name": "stderr",
     "output_type": "stream",
     "text": [
      "/usr/local/lib/python3.5/dist-packages/ipykernel_launcher.py:7: UserWarning: invalid index of a 0-dim tensor. This will be an error in PyTorch 0.5. Use tensor.item() to convert a 0-dim tensor to a Python number\n",
      "  import sys\n"
     ]
    }
   ],
   "source": [
    "model.eval()\n",
    "test_loss = 0\n",
    "correct = 0\n",
    "for images, labels in testLoader:\n",
    "    inputs, labels = inputs.to(device), labels.to(device)\n",
    "    output = model(inputs)    \n",
    "    test_loss += lossFunction(output, labels).data[0]    \n",
    "    pred = output.data.max(1, keepdim=True)[1]\n",
    "    correct += pred.eq(labels.data.view_as(pred)).sum()\n",
    "    \n",
    "test_loss /= len(testLoader.dataset)"
   ]
  },
  {
   "cell_type": "code",
   "execution_count": 19,
   "metadata": {},
   "outputs": [
    {
     "data": {
      "text/plain": [
       "tensor(1035, device='cuda:0')"
      ]
     },
     "execution_count": 19,
     "metadata": {},
     "output_type": "execute_result"
    }
   ],
   "source": [
    "correct"
   ]
  },
  {
   "cell_type": "code",
   "execution_count": 20,
   "metadata": {},
   "outputs": [
    {
     "name": "stdout",
     "output_type": "stream",
     "text": [
      "average loss: 2.033127\n"
     ]
    }
   ],
   "source": [
    "print('average loss: %f'%test_loss.item())"
   ]
  },
  {
   "cell_type": "code",
   "execution_count": 21,
   "metadata": {},
   "outputs": [
    {
     "name": "stdout",
     "output_type": "stream",
     "text": [
      "Accuracy: 1035/10000 (10%)\n"
     ]
    }
   ],
   "source": [
    "print('Accuracy: {}/{} ({}%)'.format(correct.item(),len(testLoader.dataset),\n",
    "                                    100. * correct / len(testLoader.dataset)))"
   ]
  },
  {
   "cell_type": "markdown",
   "metadata": {},
   "source": [
    "### Save model"
   ]
  },
  {
   "cell_type": "code",
   "execution_count": 24,
   "metadata": {},
   "outputs": [],
   "source": [
    "torch.save(model.state_dict(), './cnn.pth')"
   ]
  },
  {
   "cell_type": "code",
   "execution_count": 25,
   "metadata": {},
   "outputs": [],
   "source": [
    "model = FCNs()\n",
    "model.load_state_dict(torch.load('./cnn.pth'))"
   ]
  },
  {
   "cell_type": "code",
   "execution_count": 26,
   "metadata": {},
   "outputs": [
    {
     "data": {
      "text/plain": [
       "FCNs(\n",
       "  (layer1): Sequential(\n",
       "    (0): Conv2d(3, 64, kernel_size=(5, 5), stride=(2, 2), padding=(1, 1))\n",
       "    (1): BatchNorm2d(64, eps=1e-05, momentum=0.1, affine=True, track_running_stats=True)\n",
       "    (2): ReLU()\n",
       "  )\n",
       "  (layer2): Sequential(\n",
       "    (0): Conv2d(64, 30, kernel_size=(5, 5), stride=(2, 2), padding=(1, 1))\n",
       "    (1): BatchNorm2d(30, eps=1e-05, momentum=0.1, affine=True, track_running_stats=True)\n",
       "    (2): ReLU()\n",
       "  )\n",
       "  (fc): Sequential(\n",
       "    (0): Linear(in_features=1470, out_features=128, bias=True)\n",
       "    (1): Linear(in_features=128, out_features=10, bias=True)\n",
       "  )\n",
       ")"
      ]
     },
     "execution_count": 26,
     "metadata": {},
     "output_type": "execute_result"
    }
   ],
   "source": [
    "model.eval()"
   ]
  },
  {
   "cell_type": "markdown",
   "metadata": {},
   "source": [
    "### Applying Network Dissection"
   ]
  },
  {
   "cell_type": "code",
   "execution_count": null,
   "metadata": {},
   "outputs": [],
   "source": []
  },
  {
   "cell_type": "code",
   "execution_count": null,
   "metadata": {},
   "outputs": [],
   "source": []
  },
  {
   "cell_type": "code",
   "execution_count": null,
   "metadata": {},
   "outputs": [],
   "source": []
  },
  {
   "cell_type": "code",
   "execution_count": null,
   "metadata": {},
   "outputs": [],
   "source": []
  }
 ],
 "metadata": {
  "kernelspec": {
   "display_name": "Python 3",
   "language": "python",
   "name": "python3"
  },
  "language_info": {
   "codemirror_mode": {
    "name": "ipython",
    "version": 3
   },
   "file_extension": ".py",
   "mimetype": "text/x-python",
   "name": "python",
   "nbconvert_exporter": "python",
   "pygments_lexer": "ipython3",
   "version": "3.5.2"
  }
 },
 "nbformat": 4,
 "nbformat_minor": 2
}
